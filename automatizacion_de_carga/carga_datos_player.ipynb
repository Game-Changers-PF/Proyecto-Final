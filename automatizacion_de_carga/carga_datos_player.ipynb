{
 "cells": [
  {
   "cell_type": "code",
   "execution_count": 1,
   "metadata": {},
   "outputs": [],
   "source": [
    "import os\n",
    "import pyodbc\n",
    "import boto3\n",
    "import pandas as pd\n",
    "from dotenv import load_dotenv"
   ]
  },
  {
   "cell_type": "code",
   "execution_count": 7,
   "metadata": {},
   "outputs": [
    {
     "name": "stdout",
     "output_type": "stream",
     "text": [
      "{'statusCode': 500, 'body': 'Could not connect to the endpoint URL: \"https://gamechangersnba.s3.Global.amazonaws.com/csv_filtrados/cleaned_player.csv\"'}\n"
     ]
    }
   ],
   "source": [
    "# Cargar variables de entorno desde el archivo .env\n",
    "load_dotenv()\n",
    "\n",
    "def connect_to_database():\n",
    "    server = os.getenv('DB_SERVER')\n",
    "    database = os.getenv('DB_DATABASE')\n",
    "    username = os.getenv('DB_USERNAME')\n",
    "    password = os.getenv('DB_PASSWORD')\n",
    "    driver = '{ODBC Driver 17 for SQL Server}'\n",
    "    connection_string = f'DRIVER={driver};SERVER={server};DATABASE={database};UID={username};PWD={password}'\n",
    "    \n",
    "    conn = pyodbc.connect(connection_string)\n",
    "    return conn\n",
    "\n",
    "def read_csv_from_s3(bucket_name, key):\n",
    "    s3 = boto3.client('s3')\n",
    "    response = s3.get_object(Bucket=bucket_name, Key=key)\n",
    "    data = response['Body'].read().decode('utf-8')\n",
    "    df = pd.read_csv(pd.compat.StringIO(data))\n",
    "    return df\n",
    "\n",
    "def insert_data_to_database(df, table_name):\n",
    "    conn = connect_to_database()\n",
    "    cursor = conn.cursor()\n",
    "    \n",
    "    columns = \", \".join(df.columns)\n",
    "    placeholders = \", \".join([\"?\" for _ in df.columns])\n",
    "    insert_query = f\"INSERT INTO {table_name} ({columns}) VALUES ({placeholders})\"\n",
    "    \n",
    "    for index, row in df.iterrows():\n",
    "        cursor.execute(insert_query, tuple(row))\n",
    "    \n",
    "    conn.commit()\n",
    "    cursor.close()\n",
    "    conn.close()\n",
    "\n",
    "def automate_data_loading(bucket_name, key, table_name):\n",
    "    try:\n",
    "        df = read_csv_from_s3(bucket_name, key)\n",
    "        insert_data_to_database(df, table_name)\n",
    "        return {'statusCode': 200, 'body': 'Data ingested successfully'}\n",
    "    except Exception as e:\n",
    "        return {'statusCode': 500, 'body': str(e)}\n",
    "\n",
    "if __name__ == \"__main__\":\n",
    "    # Parámetros para la carga de datos\n",
    "    bucket_name = 'gamechangersnba'\n",
    "    key = 'csv_filtrados/cleaned_player.csv'  # Especifica la clave correcta del archivo en tu bucket S3\n",
    "    table_name = 'cleaned_player'\n",
    "\n",
    "    # Llamar a la función principal\n",
    "    response = automate_data_loading(bucket_name, key, table_name)\n",
    "    print(response)\n"
   ]
  }
 ],
 "metadata": {
  "kernelspec": {
   "display_name": "Python 3",
   "language": "python",
   "name": "python3"
  },
  "language_info": {
   "codemirror_mode": {
    "name": "ipython",
    "version": 3
   },
   "file_extension": ".py",
   "mimetype": "text/x-python",
   "name": "python",
   "nbconvert_exporter": "python",
   "pygments_lexer": "ipython3",
   "version": "3.12.4"
  }
 },
 "nbformat": 4,
 "nbformat_minor": 2
}
