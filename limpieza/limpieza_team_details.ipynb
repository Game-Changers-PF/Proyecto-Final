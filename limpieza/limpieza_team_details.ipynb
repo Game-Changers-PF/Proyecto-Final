{
 "cells": [
  {
   "cell_type": "code",
   "execution_count": 3,
   "metadata": {},
   "outputs": [],
   "source": [
    "from nba_api.stats.static import players\n",
    "from nba_api.stats.endpoints import commonplayerinfo\n",
    "import pandas as pd\n",
    "from nba_api.stats.endpoints import playercareerstats\n",
    "from nba_api.stats.endpoints import leaguegamefinder, boxscoretraditionalv2\n",
    "from nba_api.stats.endpoints import shotchartdetail\n",
    "import time\n"
   ]
  },
  {
   "cell_type": "code",
   "execution_count": 4,
   "metadata": {},
   "outputs": [],
   "source": [
    "# Cargar el archivo CSV en un DataFrame\n",
    "df_team_details = pd.read_csv(\"/Users/usuario1/Documents/GitHub/Proyecto-Final/csv_originales/team_details.csv\")\n"
   ]
  },
  {
   "cell_type": "code",
   "execution_count": 5,
   "metadata": {},
   "outputs": [],
   "source": [
    "# Convertir la columna de fecha a tipo datetime si no está en ese formato\n",
    "df_team_details['yearfounded'] = pd.to_datetime(df_team_details['yearfounded'])\n",
    "\n",
    "# Filtrar por fechas específicas (por ejemplo, solo datos después de '2015-01-01')\n",
    "fecha_limite = pd.to_datetime('2000-01-01')\n",
    "df_filtrado_fecha = df_team_details[df_team_details['yearfounded'] > fecha_limite]"
   ]
  },
  {
   "cell_type": "code",
   "execution_count": 7,
   "metadata": {},
   "outputs": [],
   "source": [
    "# Eliminar columnas que no aportan información relevante\n",
    "columnas_no_relevantes = ['facebook', 'instagram', 'twitter', 'dleagueaffiliation']\n",
    "df_procesado = df_team_details.drop(columns=columnas_no_relevantes)"
   ]
  },
  {
   "cell_type": "code",
   "execution_count": 8,
   "metadata": {},
   "outputs": [
    {
     "name": "stdout",
     "output_type": "stream",
     "text": [
      "Archivo guardado correctamente en /Users/usuario1/Documents/GitHub/Proyecto-Final/csv_filtrados/cleaned_team_details.csv\n"
     ]
    }
   ],
   "source": [
    "# Ruta donde guardar el nuevo archivo CSV\n",
    "ruta_csv_nuevo = '/Users/usuario1/Documents/GitHub/Proyecto-Final/csv_filtrados/cleaned_team_details.csv'\n",
    "\n",
    "# Guardar el DataFrame procesado en un nuevo archivo CSV\n",
    "df_procesado.to_csv(ruta_csv_nuevo, index=False)\n",
    "\n",
    "print(f\"Archivo guardado correctamente en {ruta_csv_nuevo}\")\n"
   ]
  }
 ],
 "metadata": {
  "kernelspec": {
   "display_name": "Python 3",
   "language": "python",
   "name": "python3"
  },
  "language_info": {
   "codemirror_mode": {
    "name": "ipython",
    "version": 3
   },
   "file_extension": ".py",
   "mimetype": "text/x-python",
   "name": "python",
   "nbconvert_exporter": "python",
   "pygments_lexer": "ipython3",
   "version": "3.12.4"
  }
 },
 "nbformat": 4,
 "nbformat_minor": 2
}
