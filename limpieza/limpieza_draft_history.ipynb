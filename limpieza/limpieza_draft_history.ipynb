{
 "cells": [
  {
   "cell_type": "code",
   "execution_count": 3,
   "metadata": {},
   "outputs": [],
   "source": [
    "import pandas as pd\n",
    "import os"
   ]
  },
  {
   "cell_type": "code",
   "execution_count": 11,
   "metadata": {},
   "outputs": [],
   "source": [
    "# Cargar los datos de draft_history.csv y cleaned_player.csv\n",
    "draft_history_df = pd.read_csv(r'C:\\Users\\Rembert\\Documents\\GitHub\\Proyecto-Final\\csv_originales\\draft_history.csv')\n",
    "cleaned_player_df = pd.read_csv(r'C:\\Users\\Rembert\\Documents\\GitHub\\Proyecto-Final\\csv_filtrados\\cleaned_player.csv')\n",
    "\n",
    "# Realizar la fusión (merge) en base a la columna person_id y player_id\n",
    "merged_draft_history_df = pd.merge(draft_history_df, cleaned_player_df, left_on='person_id', right_on='id', how='inner')\n",
    "\n",
    "# merged_df ahora contiene solo las filas donde hay coincidencia entre person_id y player_id\n",
    "# Puedes trabajar con merged_df según tus necesidades\n"
   ]
  },
  {
   "cell_type": "code",
   "execution_count": 15,
   "metadata": {},
   "outputs": [
    {
     "name": "stdout",
     "output_type": "stream",
     "text": [
      "Archivo limpio guardado en: C:\\Users\\Rembert\\Documents\\GitHub\\Proyecto-Final\\csv_filtrados\\cleaned_draft_history.csv\n"
     ]
    }
   ],
   "source": [
    "# Ruta de la carpeta dentro del proyecto\n",
    "project_path = r'C:\\Users\\Rembert\\Documents\\GitHub\\Proyecto-Final'\n",
    "filtered_csv_folder = os.path.join(project_path, 'csv_filtrados')\n",
    "\n",
    "# Ruta del archivo limpio dentro de la carpeta 'csv_filtrados'\n",
    "filtered_file_path = os.path.join(filtered_csv_folder, 'cleaned_draft_history.csv')\n",
    "\n",
    "# Guardar el dataframe limpio en la nueva ubicación\n",
    "merged_draft_history_df.to_csv(filtered_file_path, index=False)\n",
    "\n",
    "print(\"Archivo limpio guardado en:\", filtered_file_path)"
   ]
  }
 ],
 "metadata": {
  "kernelspec": {
   "display_name": "Python 3",
   "language": "python",
   "name": "python3"
  },
  "language_info": {
   "codemirror_mode": {
    "name": "ipython",
    "version": 3
   },
   "file_extension": ".py",
   "mimetype": "text/x-python",
   "name": "python",
   "nbconvert_exporter": "python",
   "pygments_lexer": "ipython3",
   "version": "3.12.4"
  }
 },
 "nbformat": 4,
 "nbformat_minor": 2
}
