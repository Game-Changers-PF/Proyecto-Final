{
 "cells": [
  {
   "cell_type": "code",
   "execution_count": 1,
   "metadata": {},
   "outputs": [],
   "source": [
    "import pandas as pd\n",
    "import numpy as np\n",
    "import os"
   ]
  },
  {
   "cell_type": "code",
   "execution_count": 2,
   "metadata": {},
   "outputs": [],
   "source": [
    "# Cargar los datos de player_average_stats_2015_2022.csv y cleaned_player.csv\n",
    "player_average_df = pd.read_csv(r'C:\\Users\\anala\\OneDrive\\Documentos\\GitHub\\Proyecto-Final\\csv_originales\\player_average_stats_2015_2022.csv')\n",
    "cleaned_player_df = pd.read_csv(r'C:\\Users\\anala\\OneDrive\\Documentos\\GitHub\\Proyecto-Final\\csv_filtrados\\cleaned_player.csv')"
   ]
  },
  {
   "cell_type": "code",
   "execution_count": 3,
   "metadata": {},
   "outputs": [],
   "source": [
    "# Realizar la fusión (merge) en base a la columna person_id y player_id para solo dejar jugadores activos\n",
    "player_average_act_df = pd.merge(player_average_df, cleaned_player_df, left_on='PLAYER_ID', right_on='id', how='inner')"
   ]
  },
  {
   "cell_type": "code",
   "execution_count": 6,
   "metadata": {},
   "outputs": [
    {
     "data": {
      "text/plain": [
       "(2894, 70)"
      ]
     },
     "execution_count": 6,
     "metadata": {},
     "output_type": "execute_result"
    }
   ],
   "source": [
    "#Consulta de cantidad de datos con numpy (para confirmar registros y columnas especificadas)\n",
    "np.shape(player_average_act_df)"
   ]
  },
  {
   "cell_type": "code",
   "execution_count": 7,
   "metadata": {},
   "outputs": [
    {
     "name": "stdout",
     "output_type": "stream",
     "text": [
      "<class 'pandas.core.frame.DataFrame'>\n",
      "RangeIndex: 2894 entries, 0 to 2893\n",
      "Data columns (total 70 columns):\n",
      " #   Column                 Non-Null Count  Dtype  \n",
      "---  ------                 --------------  -----  \n",
      " 0   PLAYER_ID              2894 non-null   int64  \n",
      " 1   PLAYER_NAME            2894 non-null   object \n",
      " 2   NICKNAME               2894 non-null   object \n",
      " 3   TEAM_ID                2894 non-null   int64  \n",
      " 4   TEAM_ABBREVIATION      2894 non-null   object \n",
      " 5   AGE                    2894 non-null   float64\n",
      " 6   GP                     2894 non-null   int64  \n",
      " 7   W                      2894 non-null   int64  \n",
      " 8   L                      2894 non-null   int64  \n",
      " 9   W_PCT                  2894 non-null   float64\n",
      " 10  MIN                    2894 non-null   float64\n",
      " 11  FGM                    2894 non-null   int64  \n",
      " 12  FGA                    2894 non-null   int64  \n",
      " 13  FG_PCT                 2894 non-null   float64\n",
      " 14  FG3M                   2894 non-null   int64  \n",
      " 15  FG3A                   2894 non-null   int64  \n",
      " 16  FG3_PCT                2894 non-null   float64\n",
      " 17  FTM                    2894 non-null   int64  \n",
      " 18  FTA                    2894 non-null   int64  \n",
      " 19  FT_PCT                 2894 non-null   float64\n",
      " 20  OREB                   2894 non-null   int64  \n",
      " 21  DREB                   2894 non-null   int64  \n",
      " 22  REB                    2894 non-null   int64  \n",
      " 23  AST                    2894 non-null   int64  \n",
      " 24  TOV                    2894 non-null   int64  \n",
      " 25  STL                    2894 non-null   int64  \n",
      " 26  BLK                    2894 non-null   int64  \n",
      " 27  BLKA                   2894 non-null   int64  \n",
      " 28  PF                     2894 non-null   int64  \n",
      " 29  PFD                    2894 non-null   int64  \n",
      " 30  PTS                    2894 non-null   int64  \n",
      " 31  PLUS_MINUS             2894 non-null   int64  \n",
      " 32  NBA_FANTASY_PTS        2894 non-null   float64\n",
      " 33  DD2                    2894 non-null   int64  \n",
      " 34  TD3                    2894 non-null   int64  \n",
      " 35  WNBA_FANTASY_PTS       2894 non-null   float64\n",
      " 36  GP_RANK                2894 non-null   int64  \n",
      " 37  W_RANK                 2894 non-null   int64  \n",
      " 38  L_RANK                 2894 non-null   int64  \n",
      " 39  W_PCT_RANK             2894 non-null   int64  \n",
      " 40  MIN_RANK               2894 non-null   int64  \n",
      " 41  FGM_RANK               2894 non-null   int64  \n",
      " 42  FGA_RANK               2894 non-null   int64  \n",
      " 43  FG_PCT_RANK            2894 non-null   int64  \n",
      " 44  FG3M_RANK              2894 non-null   int64  \n",
      " 45  FG3A_RANK              2894 non-null   int64  \n",
      " 46  FG3_PCT_RANK           2894 non-null   int64  \n",
      " 47  FTM_RANK               2894 non-null   int64  \n",
      " 48  FTA_RANK               2894 non-null   int64  \n",
      " 49  FT_PCT_RANK            2894 non-null   int64  \n",
      " 50  OREB_RANK              2894 non-null   int64  \n",
      " 51  DREB_RANK              2894 non-null   int64  \n",
      " 52  REB_RANK               2894 non-null   int64  \n",
      " 53  AST_RANK               2894 non-null   int64  \n",
      " 54  TOV_RANK               2894 non-null   int64  \n",
      " 55  STL_RANK               2894 non-null   int64  \n",
      " 56  BLK_RANK               2894 non-null   int64  \n",
      " 57  BLKA_RANK              2894 non-null   int64  \n",
      " 58  PF_RANK                2894 non-null   int64  \n",
      " 59  PFD_RANK               2894 non-null   int64  \n",
      " 60  PTS_RANK               2894 non-null   int64  \n",
      " 61  PLUS_MINUS_RANK        2894 non-null   int64  \n",
      " 62  NBA_FANTASY_PTS_RANK   2894 non-null   int64  \n",
      " 63  DD2_RANK               2894 non-null   int64  \n",
      " 64  TD3_RANK               2894 non-null   int64  \n",
      " 65  WNBA_FANTASY_PTS_RANK  2894 non-null   int64  \n",
      " 66  SEASON                 2894 non-null   object \n",
      " 67  SEASON_TYPE            2894 non-null   object \n",
      " 68  id                     2894 non-null   int64  \n",
      " 69  full_name              2894 non-null   object \n",
      "dtypes: float64(8), int64(56), object(6)\n",
      "memory usage: 1.5+ MB\n"
     ]
    }
   ],
   "source": [
    "#Revisión dataframe\n",
    "player_average_act_df.info()\n"
   ]
  },
  {
   "cell_type": "code",
   "execution_count": 8,
   "metadata": {},
   "outputs": [],
   "source": [
    "#Eliminar tablas irrelevantes para el analisis\n",
    "player_average_act_df = player_average_act_df.drop(['PLAYER_NAME', 'NICKNAME', 'id', 'full_name', 'TEAM_ABBREVIATION', 'WNBA_FANTASY_PTS'], axis=1)"
   ]
  },
  {
   "cell_type": "code",
   "execution_count": 9,
   "metadata": {},
   "outputs": [
    {
     "data": {
      "text/plain": [
       "(2894, 64)"
      ]
     },
     "execution_count": 9,
     "metadata": {},
     "output_type": "execute_result"
    }
   ],
   "source": [
    "#Consulta de cantidad de datos para ver si se eliminaron las columnas\n",
    "np.shape(player_average_act_df)"
   ]
  },
  {
   "cell_type": "code",
   "execution_count": 14,
   "metadata": {},
   "outputs": [
    {
     "name": "stdout",
     "output_type": "stream",
     "text": [
      "0       2015\n",
      "1       2015\n",
      "2       2015\n",
      "3       2015\n",
      "4       2015\n",
      "        ... \n",
      "2889    2021\n",
      "2890    2021\n",
      "2891    2021\n",
      "2892    2021\n",
      "2893    2021\n",
      "Name: SEASON, Length: 2894, dtype: object\n"
     ]
    }
   ],
   "source": [
    "#Normalizacion de datos para columna Season\n",
    "player_average_act_df[\"SEASON\"] = player_average_act_df[\"SEASON\"].str[:4]\n",
    "\n",
    "#Revisión\n",
    "print(player_average_act_df[\"SEASON\"])"
   ]
  },
  {
   "cell_type": "code",
   "execution_count": 15,
   "metadata": {},
   "outputs": [
    {
     "data": {
      "text/plain": [
       "0       2015\n",
       "1       2015\n",
       "2       2015\n",
       "3       2015\n",
       "4       2015\n",
       "        ... \n",
       "2889    2021\n",
       "2890    2021\n",
       "2891    2021\n",
       "2892    2021\n",
       "2893    2021\n",
       "Name: SEASON, Length: 2894, dtype: int32"
      ]
     },
     "execution_count": 15,
     "metadata": {},
     "output_type": "execute_result"
    }
   ],
   "source": [
    "#Transformacion del dato a tipo entero\n",
    "player_average_act_df[\"SEASON\"].astype(int)"
   ]
  },
  {
   "cell_type": "code",
   "execution_count": 12,
   "metadata": {},
   "outputs": [
    {
     "data": {
      "text/plain": [
       "PLAYER_ID                0\n",
       "TEAM_ID                  0\n",
       "AGE                      0\n",
       "GP                       0\n",
       "W                        0\n",
       "                        ..\n",
       "DD2_RANK                 0\n",
       "TD3_RANK                 0\n",
       "WNBA_FANTASY_PTS_RANK    0\n",
       "SEASON                   0\n",
       "SEASON_TYPE              0\n",
       "Length: 64, dtype: int64"
      ]
     },
     "execution_count": 12,
     "metadata": {},
     "output_type": "execute_result"
    }
   ],
   "source": [
    "#Revision de nulos\n",
    "player_average_act_df.isnull().sum()"
   ]
  },
  {
   "cell_type": "code",
   "execution_count": 19,
   "metadata": {},
   "outputs": [
    {
     "name": "stdout",
     "output_type": "stream",
     "text": [
      "Archivo guardado correctamente en C:\\Users\\anala\\OneDrive\\Documentos\\GitHub\\Proyecto-Final\\csv_filtrados\\cleaned_player_average_stats_2015_2022.csv\n"
     ]
    }
   ],
   "source": [
    "# Ruta donde guardar el nuevo archivo CSV\n",
    "ruta_csv_nuevo = r'C:\\Users\\anala\\OneDrive\\Documentos\\GitHub\\Proyecto-Final\\csv_filtrados\\cleaned_player_average_stats_2015_2022.csv'\n",
    "\n",
    "# Guardar el DataFrame procesado en un nuevo archivo CSV\n",
    "player_average_act_df.to_csv(ruta_csv_nuevo, index=False)\n",
    "\n",
    "print(f\"Archivo guardado correctamente en {ruta_csv_nuevo}\")"
   ]
  }
 ],
 "metadata": {
  "kernelspec": {
   "display_name": "Python 3",
   "language": "python",
   "name": "python3"
  },
  "language_info": {
   "codemirror_mode": {
    "name": "ipython",
    "version": 3
   },
   "file_extension": ".py",
   "mimetype": "text/x-python",
   "name": "python",
   "nbconvert_exporter": "python",
   "pygments_lexer": "ipython3",
   "version": "3.12.4"
  }
 },
 "nbformat": 4,
 "nbformat_minor": 2
}
