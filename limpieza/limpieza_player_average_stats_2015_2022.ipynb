{
 "cells": [
  {
   "cell_type": "code",
   "execution_count": 1,
   "metadata": {},
   "outputs": [],
   "source": [
    "import pandas as pd\n",
    "import numpy as np\n",
    "import os"
   ]
  },
  {
   "cell_type": "code",
   "execution_count": 2,
   "metadata": {},
   "outputs": [],
   "source": [
    "# Cargar los datos de player_average_stats_2015_2022.csv y cleaned_player.csv\n",
    "player_average_df = pd.read_csv(r'C:\\Users\\Rembert\\Documents\\GitHub\\Proyecto-Final\\csv_originales\\player_average_stats_2015_2022.csv')\n",
    "cleaned_player_df = pd.read_csv(r'C:\\Users\\Rembert\\Documents\\GitHub\\Proyecto-Final\\csv_filtrados\\cleaned_player.csv')"
   ]
  },
  {
   "cell_type": "code",
   "execution_count": 6,
   "metadata": {},
   "outputs": [
    {
     "data": {
      "text/plain": [
       "Index(['Player ID', 'Full Name', 'Status'], dtype='object')"
      ]
     },
     "execution_count": 6,
     "metadata": {},
     "output_type": "execute_result"
    }
   ],
   "source": [
    "player_average_df.columns\n",
    "cleaned_player_df.columns"
   ]
  },
  {
   "cell_type": "code",
   "execution_count": 7,
   "metadata": {},
   "outputs": [],
   "source": [
    "# Realizar la fusión (merge) en base a la columna person_id y player_id para solo dejar jugadores activos\n",
    "player_average_act_df = pd.merge(player_average_df, cleaned_player_df, left_on='PLAYER_ID', right_on='Player ID', how='inner')"
   ]
  },
  {
   "cell_type": "code",
   "execution_count": 8,
   "metadata": {},
   "outputs": [
    {
     "data": {
      "text/plain": [
       "(5231, 71)"
      ]
     },
     "execution_count": 8,
     "metadata": {},
     "output_type": "execute_result"
    }
   ],
   "source": [
    "#Consulta de cantidad de datos con numpy (para confirmar registros y columnas especificadas)\n",
    "np.shape(player_average_act_df)"
   ]
  },
  {
   "cell_type": "code",
   "execution_count": 9,
   "metadata": {},
   "outputs": [
    {
     "name": "stdout",
     "output_type": "stream",
     "text": [
      "<class 'pandas.core.frame.DataFrame'>\n",
      "RangeIndex: 5231 entries, 0 to 5230\n",
      "Data columns (total 71 columns):\n",
      " #   Column                 Non-Null Count  Dtype  \n",
      "---  ------                 --------------  -----  \n",
      " 0   PLAYER_ID              5231 non-null   int64  \n",
      " 1   PLAYER_NAME            5231 non-null   object \n",
      " 2   NICKNAME               5231 non-null   object \n",
      " 3   TEAM_ID                5231 non-null   int64  \n",
      " 4   TEAM_ABBREVIATION      5231 non-null   object \n",
      " 5   AGE                    5231 non-null   float64\n",
      " 6   GP                     5231 non-null   int64  \n",
      " 7   W                      5231 non-null   int64  \n",
      " 8   L                      5231 non-null   int64  \n",
      " 9   W_PCT                  5231 non-null   float64\n",
      " 10  MIN                    5231 non-null   float64\n",
      " 11  FGM                    5231 non-null   int64  \n",
      " 12  FGA                    5231 non-null   int64  \n",
      " 13  FG_PCT                 5231 non-null   float64\n",
      " 14  FG3M                   5231 non-null   int64  \n",
      " 15  FG3A                   5231 non-null   int64  \n",
      " 16  FG3_PCT                5231 non-null   float64\n",
      " 17  FTM                    5231 non-null   int64  \n",
      " 18  FTA                    5231 non-null   int64  \n",
      " 19  FT_PCT                 5231 non-null   float64\n",
      " 20  OREB                   5231 non-null   int64  \n",
      " 21  DREB                   5231 non-null   int64  \n",
      " 22  REB                    5231 non-null   int64  \n",
      " 23  AST                    5231 non-null   int64  \n",
      " 24  TOV                    5231 non-null   int64  \n",
      " 25  STL                    5231 non-null   int64  \n",
      " 26  BLK                    5231 non-null   int64  \n",
      " 27  BLKA                   5231 non-null   int64  \n",
      " 28  PF                     5231 non-null   int64  \n",
      " 29  PFD                    5231 non-null   int64  \n",
      " 30  PTS                    5231 non-null   int64  \n",
      " 31  PLUS_MINUS             5231 non-null   int64  \n",
      " 32  NBA_FANTASY_PTS        5231 non-null   float64\n",
      " 33  DD2                    5231 non-null   int64  \n",
      " 34  TD3                    5231 non-null   int64  \n",
      " 35  WNBA_FANTASY_PTS       5231 non-null   float64\n",
      " 36  GP_RANK                5231 non-null   int64  \n",
      " 37  W_RANK                 5231 non-null   int64  \n",
      " 38  L_RANK                 5231 non-null   int64  \n",
      " 39  W_PCT_RANK             5231 non-null   int64  \n",
      " 40  MIN_RANK               5231 non-null   int64  \n",
      " 41  FGM_RANK               5231 non-null   int64  \n",
      " 42  FGA_RANK               5231 non-null   int64  \n",
      " 43  FG_PCT_RANK            5231 non-null   int64  \n",
      " 44  FG3M_RANK              5231 non-null   int64  \n",
      " 45  FG3A_RANK              5231 non-null   int64  \n",
      " 46  FG3_PCT_RANK           5231 non-null   int64  \n",
      " 47  FTM_RANK               5231 non-null   int64  \n",
      " 48  FTA_RANK               5231 non-null   int64  \n",
      " 49  FT_PCT_RANK            5231 non-null   int64  \n",
      " 50  OREB_RANK              5231 non-null   int64  \n",
      " 51  DREB_RANK              5231 non-null   int64  \n",
      " 52  REB_RANK               5231 non-null   int64  \n",
      " 53  AST_RANK               5231 non-null   int64  \n",
      " 54  TOV_RANK               5231 non-null   int64  \n",
      " 55  STL_RANK               5231 non-null   int64  \n",
      " 56  BLK_RANK               5231 non-null   int64  \n",
      " 57  BLKA_RANK              5231 non-null   int64  \n",
      " 58  PF_RANK                5231 non-null   int64  \n",
      " 59  PFD_RANK               5231 non-null   int64  \n",
      " 60  PTS_RANK               5231 non-null   int64  \n",
      " 61  PLUS_MINUS_RANK        5231 non-null   int64  \n",
      " 62  NBA_FANTASY_PTS_RANK   5231 non-null   int64  \n",
      " 63  DD2_RANK               5231 non-null   int64  \n",
      " 64  TD3_RANK               5231 non-null   int64  \n",
      " 65  WNBA_FANTASY_PTS_RANK  5231 non-null   int64  \n",
      " 66  SEASON                 5231 non-null   object \n",
      " 67  SEASON_TYPE            5231 non-null   object \n",
      " 68  Player ID              5231 non-null   int64  \n",
      " 69  Full Name              5231 non-null   object \n",
      " 70  Status                 5231 non-null   object \n",
      "dtypes: float64(8), int64(56), object(7)\n",
      "memory usage: 2.8+ MB\n"
     ]
    }
   ],
   "source": [
    "#Revisión dataframe\n",
    "player_average_act_df.info()\n"
   ]
  },
  {
   "cell_type": "code",
   "execution_count": 12,
   "metadata": {},
   "outputs": [],
   "source": [
    "#Eliminar tablas irrelevantes para el analisis\n",
    "player_average_act_df = player_average_act_df.drop(['PLAYER_NAME', 'NICKNAME', 'Player ID', 'Full Name', 'TEAM_ABBREVIATION', 'WNBA_FANTASY_PTS'], axis=1)"
   ]
  },
  {
   "cell_type": "code",
   "execution_count": 13,
   "metadata": {},
   "outputs": [
    {
     "data": {
      "text/plain": [
       "(5231, 65)"
      ]
     },
     "execution_count": 13,
     "metadata": {},
     "output_type": "execute_result"
    }
   ],
   "source": [
    "#Consulta de cantidad de datos para ver si se eliminaron las columnas\n",
    "np.shape(player_average_act_df)"
   ]
  },
  {
   "cell_type": "code",
   "execution_count": 14,
   "metadata": {},
   "outputs": [
    {
     "name": "stdout",
     "output_type": "stream",
     "text": [
      "0       2015\n",
      "1       2015\n",
      "2       2015\n",
      "3       2015\n",
      "4       2015\n",
      "        ... \n",
      "5226    2021\n",
      "5227    2021\n",
      "5228    2021\n",
      "5229    2021\n",
      "5230    2021\n",
      "Name: SEASON, Length: 5231, dtype: object\n"
     ]
    }
   ],
   "source": [
    "#Normalizacion de datos para columna Season\n",
    "player_average_act_df[\"SEASON\"] = player_average_act_df[\"SEASON\"].str[:4]\n",
    "\n",
    "#Revisión\n",
    "print(player_average_act_df[\"SEASON\"])"
   ]
  },
  {
   "cell_type": "code",
   "execution_count": 15,
   "metadata": {},
   "outputs": [
    {
     "data": {
      "text/plain": [
       "0       2015\n",
       "1       2015\n",
       "2       2015\n",
       "3       2015\n",
       "4       2015\n",
       "        ... \n",
       "5226    2021\n",
       "5227    2021\n",
       "5228    2021\n",
       "5229    2021\n",
       "5230    2021\n",
       "Name: SEASON, Length: 5231, dtype: int32"
      ]
     },
     "execution_count": 15,
     "metadata": {},
     "output_type": "execute_result"
    }
   ],
   "source": [
    "#Transformacion del dato a tipo entero\n",
    "player_average_act_df[\"SEASON\"].astype(int)"
   ]
  },
  {
   "cell_type": "code",
   "execution_count": 16,
   "metadata": {},
   "outputs": [
    {
     "data": {
      "text/plain": [
       "PLAYER_ID                0\n",
       "TEAM_ID                  0\n",
       "AGE                      0\n",
       "GP                       0\n",
       "W                        0\n",
       "                        ..\n",
       "TD3_RANK                 0\n",
       "WNBA_FANTASY_PTS_RANK    0\n",
       "SEASON                   0\n",
       "SEASON_TYPE              0\n",
       "Status                   0\n",
       "Length: 65, dtype: int64"
      ]
     },
     "execution_count": 16,
     "metadata": {},
     "output_type": "execute_result"
    }
   ],
   "source": [
    "#Revision de nulos\n",
    "player_average_act_df.isnull().sum()"
   ]
  },
  {
   "cell_type": "code",
   "execution_count": 17,
   "metadata": {},
   "outputs": [
    {
     "name": "stdout",
     "output_type": "stream",
     "text": [
      "Archivo guardado correctamente en C:\\Users\\Rembert\\Documents\\GitHub\\Proyecto-Final\\csv_filtrados\\cleaned_player_average_stats_2015_2022.csv\n"
     ]
    }
   ],
   "source": [
    "# Ruta donde guardar el nuevo archivo CSV\n",
    "ruta_csv_nuevo = r'C:\\Users\\Rembert\\Documents\\GitHub\\Proyecto-Final\\csv_filtrados\\cleaned_player_average_stats_2015_2022.csv'\n",
    "\n",
    "# Guardar el DataFrame procesado en un nuevo archivo CSV\n",
    "player_average_act_df.to_csv(ruta_csv_nuevo, index=False)\n",
    "\n",
    "print(f\"Archivo guardado correctamente en {ruta_csv_nuevo}\")"
   ]
  }
 ],
 "metadata": {
  "kernelspec": {
   "display_name": "Python 3",
   "language": "python",
   "name": "python3"
  },
  "language_info": {
   "codemirror_mode": {
    "name": "ipython",
    "version": 3
   },
   "file_extension": ".py",
   "mimetype": "text/x-python",
   "name": "python",
   "nbconvert_exporter": "python",
   "pygments_lexer": "ipython3",
   "version": "3.12.4"
  }
 },
 "nbformat": 4,
 "nbformat_minor": 2
}
