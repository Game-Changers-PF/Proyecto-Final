{
 "cells": [
  {
   "cell_type": "code",
   "execution_count": 26,
   "metadata": {},
   "outputs": [],
   "source": [
    "#importación de liberias\n",
    "import pandas as pd\n",
    "import numpy as np\n",
    "import os"
   ]
  },
  {
   "cell_type": "code",
   "execution_count": 27,
   "metadata": {},
   "outputs": [],
   "source": [
    "shot_chart_details_df = pd.read_csv(r\"C:\\Users\\valen\\OneDrive\\Documentos\\GitHub\\Proyecto-Final\\csv_originales\\shot_chart_details_2015_2022.csv\",sep=',')"
   ]
  },
  {
   "cell_type": "code",
   "execution_count": 28,
   "metadata": {},
   "outputs": [
    {
     "name": "stdout",
     "output_type": "stream",
     "text": [
      "Index(['GRID_TYPE', 'GAME_ID', 'GAME_EVENT_ID', 'PLAYER_ID', 'PLAYER_NAME',\n",
      "       'TEAM_ID', 'TEAM_NAME', 'PERIOD', 'MINUTES_REMAINING',\n",
      "       'SECONDS_REMAINING', 'EVENT_TYPE', 'ACTION_TYPE', 'SHOT_TYPE',\n",
      "       'SHOT_ZONE_BASIC', 'SHOT_ZONE_AREA', 'SHOT_ZONE_RANGE', 'SHOT_DISTANCE',\n",
      "       'LOC_X', 'LOC_Y', 'SHOT_ATTEMPTED_FLAG', 'SHOT_MADE_FLAG', 'GAME_DATE',\n",
      "       'HTM', 'VTM', 'SEASON'],\n",
      "      dtype='object')\n"
     ]
    }
   ],
   "source": [
    "print(shot_chart_details_df.columns)"
   ]
  },
  {
   "cell_type": "code",
   "execution_count": 29,
   "metadata": {},
   "outputs": [
    {
     "data": {
      "text/html": [
       "<div>\n",
       "<style scoped>\n",
       "    .dataframe tbody tr th:only-of-type {\n",
       "        vertical-align: middle;\n",
       "    }\n",
       "\n",
       "    .dataframe tbody tr th {\n",
       "        vertical-align: top;\n",
       "    }\n",
       "\n",
       "    .dataframe thead th {\n",
       "        text-align: right;\n",
       "    }\n",
       "</style>\n",
       "<table border=\"1\" class=\"dataframe\">\n",
       "  <thead>\n",
       "    <tr style=\"text-align: right;\">\n",
       "      <th></th>\n",
       "      <th>GRID_TYPE</th>\n",
       "      <th>GAME_ID</th>\n",
       "      <th>GAME_EVENT_ID</th>\n",
       "      <th>PLAYER_ID</th>\n",
       "      <th>PLAYER_NAME</th>\n",
       "      <th>TEAM_ID</th>\n",
       "      <th>TEAM_NAME</th>\n",
       "      <th>PERIOD</th>\n",
       "      <th>MINUTES_REMAINING</th>\n",
       "      <th>SECONDS_REMAINING</th>\n",
       "      <th>...</th>\n",
       "      <th>SHOT_ZONE_RANGE</th>\n",
       "      <th>SHOT_DISTANCE</th>\n",
       "      <th>LOC_X</th>\n",
       "      <th>LOC_Y</th>\n",
       "      <th>SHOT_ATTEMPTED_FLAG</th>\n",
       "      <th>SHOT_MADE_FLAG</th>\n",
       "      <th>GAME_DATE</th>\n",
       "      <th>HTM</th>\n",
       "      <th>VTM</th>\n",
       "      <th>SEASON</th>\n",
       "    </tr>\n",
       "  </thead>\n",
       "  <tbody>\n",
       "    <tr>\n",
       "      <th>0</th>\n",
       "      <td>Shot Chart Detail</td>\n",
       "      <td>21500013</td>\n",
       "      <td>14</td>\n",
       "      <td>201980</td>\n",
       "      <td>Danny Green</td>\n",
       "      <td>1610612759</td>\n",
       "      <td>San Antonio Spurs</td>\n",
       "      <td>1</td>\n",
       "      <td>10</td>\n",
       "      <td>48</td>\n",
       "      <td>...</td>\n",
       "      <td>Less Than 8 ft.</td>\n",
       "      <td>5</td>\n",
       "      <td>6</td>\n",
       "      <td>51</td>\n",
       "      <td>1</td>\n",
       "      <td>1</td>\n",
       "      <td>20151028</td>\n",
       "      <td>OKC</td>\n",
       "      <td>SAS</td>\n",
       "      <td>2015-16</td>\n",
       "    </tr>\n",
       "    <tr>\n",
       "      <th>1</th>\n",
       "      <td>Shot Chart Detail</td>\n",
       "      <td>21500013</td>\n",
       "      <td>503</td>\n",
       "      <td>201980</td>\n",
       "      <td>Danny Green</td>\n",
       "      <td>1610612759</td>\n",
       "      <td>San Antonio Spurs</td>\n",
       "      <td>4</td>\n",
       "      <td>3</td>\n",
       "      <td>8</td>\n",
       "      <td>...</td>\n",
       "      <td>8-16 ft.</td>\n",
       "      <td>9</td>\n",
       "      <td>-83</td>\n",
       "      <td>41</td>\n",
       "      <td>1</td>\n",
       "      <td>1</td>\n",
       "      <td>20151028</td>\n",
       "      <td>OKC</td>\n",
       "      <td>SAS</td>\n",
       "      <td>2015-16</td>\n",
       "    </tr>\n",
       "    <tr>\n",
       "      <th>2</th>\n",
       "      <td>Shot Chart Detail</td>\n",
       "      <td>21500028</td>\n",
       "      <td>17</td>\n",
       "      <td>201980</td>\n",
       "      <td>Danny Green</td>\n",
       "      <td>1610612759</td>\n",
       "      <td>San Antonio Spurs</td>\n",
       "      <td>1</td>\n",
       "      <td>9</td>\n",
       "      <td>19</td>\n",
       "      <td>...</td>\n",
       "      <td>24+ ft.</td>\n",
       "      <td>25</td>\n",
       "      <td>-196</td>\n",
       "      <td>169</td>\n",
       "      <td>1</td>\n",
       "      <td>1</td>\n",
       "      <td>20151030</td>\n",
       "      <td>SAS</td>\n",
       "      <td>BKN</td>\n",
       "      <td>2015-16</td>\n",
       "    </tr>\n",
       "    <tr>\n",
       "      <th>3</th>\n",
       "      <td>Shot Chart Detail</td>\n",
       "      <td>21500028</td>\n",
       "      <td>262</td>\n",
       "      <td>201980</td>\n",
       "      <td>Danny Green</td>\n",
       "      <td>1610612759</td>\n",
       "      <td>San Antonio Spurs</td>\n",
       "      <td>3</td>\n",
       "      <td>8</td>\n",
       "      <td>11</td>\n",
       "      <td>...</td>\n",
       "      <td>24+ ft.</td>\n",
       "      <td>24</td>\n",
       "      <td>182</td>\n",
       "      <td>169</td>\n",
       "      <td>1</td>\n",
       "      <td>1</td>\n",
       "      <td>20151030</td>\n",
       "      <td>SAS</td>\n",
       "      <td>BKN</td>\n",
       "      <td>2015-16</td>\n",
       "    </tr>\n",
       "    <tr>\n",
       "      <th>4</th>\n",
       "      <td>Shot Chart Detail</td>\n",
       "      <td>21500028</td>\n",
       "      <td>273</td>\n",
       "      <td>201980</td>\n",
       "      <td>Danny Green</td>\n",
       "      <td>1610612759</td>\n",
       "      <td>San Antonio Spurs</td>\n",
       "      <td>3</td>\n",
       "      <td>6</td>\n",
       "      <td>30</td>\n",
       "      <td>...</td>\n",
       "      <td>Less Than 8 ft.</td>\n",
       "      <td>0</td>\n",
       "      <td>-6</td>\n",
       "      <td>7</td>\n",
       "      <td>1</td>\n",
       "      <td>1</td>\n",
       "      <td>20151030</td>\n",
       "      <td>SAS</td>\n",
       "      <td>BKN</td>\n",
       "      <td>2015-16</td>\n",
       "    </tr>\n",
       "  </tbody>\n",
       "</table>\n",
       "<p>5 rows × 25 columns</p>\n",
       "</div>"
      ],
      "text/plain": [
       "           GRID_TYPE   GAME_ID  GAME_EVENT_ID  PLAYER_ID  PLAYER_NAME  \\\n",
       "0  Shot Chart Detail  21500013             14     201980  Danny Green   \n",
       "1  Shot Chart Detail  21500013            503     201980  Danny Green   \n",
       "2  Shot Chart Detail  21500028             17     201980  Danny Green   \n",
       "3  Shot Chart Detail  21500028            262     201980  Danny Green   \n",
       "4  Shot Chart Detail  21500028            273     201980  Danny Green   \n",
       "\n",
       "      TEAM_ID          TEAM_NAME  PERIOD  MINUTES_REMAINING  \\\n",
       "0  1610612759  San Antonio Spurs       1                 10   \n",
       "1  1610612759  San Antonio Spurs       4                  3   \n",
       "2  1610612759  San Antonio Spurs       1                  9   \n",
       "3  1610612759  San Antonio Spurs       3                  8   \n",
       "4  1610612759  San Antonio Spurs       3                  6   \n",
       "\n",
       "   SECONDS_REMAINING  ...  SHOT_ZONE_RANGE SHOT_DISTANCE LOC_X LOC_Y  \\\n",
       "0                 48  ...  Less Than 8 ft.             5     6    51   \n",
       "1                  8  ...         8-16 ft.             9   -83    41   \n",
       "2                 19  ...          24+ ft.            25  -196   169   \n",
       "3                 11  ...          24+ ft.            24   182   169   \n",
       "4                 30  ...  Less Than 8 ft.             0    -6     7   \n",
       "\n",
       "  SHOT_ATTEMPTED_FLAG SHOT_MADE_FLAG  GAME_DATE  HTM  VTM   SEASON  \n",
       "0                   1              1   20151028  OKC  SAS  2015-16  \n",
       "1                   1              1   20151028  OKC  SAS  2015-16  \n",
       "2                   1              1   20151030  SAS  BKN  2015-16  \n",
       "3                   1              1   20151030  SAS  BKN  2015-16  \n",
       "4                   1              1   20151030  SAS  BKN  2015-16  \n",
       "\n",
       "[5 rows x 25 columns]"
      ]
     },
     "execution_count": 29,
     "metadata": {},
     "output_type": "execute_result"
    }
   ],
   "source": [
    "#visualización del dataset\n",
    "shot_chart_details_df.head()"
   ]
  },
  {
   "cell_type": "code",
   "execution_count": 30,
   "metadata": {},
   "outputs": [
    {
     "name": "stdout",
     "output_type": "stream",
     "text": [
      "Columnas del DataFrame original: Index(['GRID_TYPE', 'GAME_ID', 'GAME_EVENT_ID', 'PLAYER_ID', 'PLAYER_NAME',\n",
      "       'TEAM_ID', 'TEAM_NAME', 'PERIOD', 'MINUTES_REMAINING',\n",
      "       'SECONDS_REMAINING', 'EVENT_TYPE', 'ACTION_TYPE', 'SHOT_TYPE',\n",
      "       'SHOT_ZONE_BASIC', 'SHOT_ZONE_AREA', 'SHOT_ZONE_RANGE', 'SHOT_DISTANCE',\n",
      "       'LOC_X', 'LOC_Y', 'SHOT_ATTEMPTED_FLAG', 'SHOT_MADE_FLAG', 'GAME_DATE',\n",
      "       'HTM', 'VTM', 'SEASON'],\n",
      "      dtype='object')\n"
     ]
    }
   ],
   "source": [
    "# Verificar los nombres de las columnas e incluir el índice\n",
    "print(\"Columnas del DataFrame original:\", shot_chart_details_df.columns)"
   ]
  },
  {
   "cell_type": "code",
   "execution_count": 31,
   "metadata": {},
   "outputs": [
    {
     "name": "stdout",
     "output_type": "stream",
     "text": [
      "GRID_TYPE              0\n",
      "GAME_ID                0\n",
      "GAME_EVENT_ID          0\n",
      "PLAYER_ID              0\n",
      "PLAYER_NAME            0\n",
      "TEAM_ID                0\n",
      "TEAM_NAME              0\n",
      "PERIOD                 0\n",
      "MINUTES_REMAINING      0\n",
      "SECONDS_REMAINING      0\n",
      "EVENT_TYPE             0\n",
      "ACTION_TYPE            0\n",
      "SHOT_TYPE              0\n",
      "SHOT_ZONE_BASIC        0\n",
      "SHOT_ZONE_AREA         0\n",
      "SHOT_ZONE_RANGE        0\n",
      "SHOT_DISTANCE          0\n",
      "LOC_X                  0\n",
      "LOC_Y                  0\n",
      "SHOT_ATTEMPTED_FLAG    0\n",
      "SHOT_MADE_FLAG         0\n",
      "GAME_DATE              0\n",
      "HTM                    0\n",
      "VTM                    0\n",
      "SEASON                 0\n",
      "dtype: int64\n"
     ]
    }
   ],
   "source": [
    "#Verificar valores nulos\n",
    "nulos_por_columna = shot_chart_details_df.isnull().sum()\n",
    "print(nulos_por_columna)"
   ]
  },
  {
   "cell_type": "code",
   "execution_count": 32,
   "metadata": {},
   "outputs": [
    {
     "name": "stdout",
     "output_type": "stream",
     "text": [
      "0        2015\n",
      "1        2015\n",
      "2        2015\n",
      "3        2015\n",
      "4        2015\n",
      "         ... \n",
      "33844    2021\n",
      "33845    2021\n",
      "33846    2021\n",
      "33847    2021\n",
      "33848    2021\n",
      "Name: SEASON, Length: 33849, dtype: object\n"
     ]
    }
   ],
   "source": [
    "#Normalización del año en la temporada en la columna season para que solo se muestre el año de inicio\n",
    "shot_chart_details_df['SEASON'] = shot_chart_details_df['SEASON'].str.slice(0,-3)\n",
    "print(shot_chart_details_df['SEASON']) "
   ]
  },
  {
   "cell_type": "markdown",
   "metadata": {},
   "source": [
    "Se itera con el equipo sobre las columnas que estan repetidas en otras trablas de las bases de datos y las que no aportan valor al analisis, por lo cual se decide eliminar de la tabla las columnas: 'LOC_X', 'LOC_Y' y 'GAME_DATE'. "
   ]
  },
  {
   "cell_type": "code",
   "execution_count": 33,
   "metadata": {},
   "outputs": [
    {
     "name": "stdout",
     "output_type": "stream",
     "text": [
      "               GRID_TYPE   GAME_ID  GAME_EVENT_ID  PLAYER_ID      PLAYER_NAME  \\\n",
      "0      Shot Chart Detail  21500013             14     201980      Danny Green   \n",
      "1      Shot Chart Detail  21500013            503     201980      Danny Green   \n",
      "2      Shot Chart Detail  21500028             17     201980      Danny Green   \n",
      "3      Shot Chart Detail  21500028            262     201980      Danny Green   \n",
      "4      Shot Chart Detail  21500028            273     201980      Danny Green   \n",
      "...                  ...       ...            ...        ...              ...   \n",
      "33844  Shot Chart Detail  22101073             14    1626159  Justise Winslow   \n",
      "33845  Shot Chart Detail  22101073             38    1626159  Justise Winslow   \n",
      "33846  Shot Chart Detail  22101073            719    1626159  Justise Winslow   \n",
      "33847  Shot Chart Detail  22101214            255    1628221        Gabe York   \n",
      "33848  Shot Chart Detail  22101214            717    1628221        Gabe York   \n",
      "\n",
      "          TEAM_ID               TEAM_NAME  PERIOD  MINUTES_REMAINING  \\\n",
      "0      1610612759       San Antonio Spurs       1                 10   \n",
      "1      1610612759       San Antonio Spurs       4                  3   \n",
      "2      1610612759       San Antonio Spurs       1                  9   \n",
      "3      1610612759       San Antonio Spurs       3                  8   \n",
      "4      1610612759       San Antonio Spurs       3                  6   \n",
      "...           ...                     ...     ...                ...   \n",
      "33844  1610612757  Portland Trail Blazers       1                 10   \n",
      "33845  1610612757  Portland Trail Blazers       1                  8   \n",
      "33846  1610612757  Portland Trail Blazers       4                  2   \n",
      "33847  1610612754          Indiana Pacers       2                  8   \n",
      "33848  1610612754          Indiana Pacers       4                  0   \n",
      "\n",
      "       SECONDS_REMAINING  ...       SHOT_TYPE        SHOT_ZONE_BASIC  \\\n",
      "0                     48  ...  2PT Field Goal  In The Paint (Non-RA)   \n",
      "1                      8  ...  2PT Field Goal              Mid-Range   \n",
      "2                     19  ...  3PT Field Goal      Above the Break 3   \n",
      "3                     11  ...  3PT Field Goal      Above the Break 3   \n",
      "4                     30  ...  2PT Field Goal        Restricted Area   \n",
      "...                  ...  ...             ...                    ...   \n",
      "33844                 41  ...  2PT Field Goal  In The Paint (Non-RA)   \n",
      "33845                 50  ...  2PT Field Goal  In The Paint (Non-RA)   \n",
      "33846                  9  ...  2PT Field Goal        Restricted Area   \n",
      "33847                 24  ...  2PT Field Goal  In The Paint (Non-RA)   \n",
      "33848                  6  ...  3PT Field Goal      Above the Break 3   \n",
      "\n",
      "              SHOT_ZONE_AREA  SHOT_ZONE_RANGE SHOT_DISTANCE  \\\n",
      "0                  Center(C)  Less Than 8 ft.             5   \n",
      "1               Left Side(L)         8-16 ft.             9   \n",
      "2       Left Side Center(LC)          24+ ft.            25   \n",
      "3      Right Side Center(RC)          24+ ft.            24   \n",
      "4                  Center(C)  Less Than 8 ft.             0   \n",
      "...                      ...              ...           ...   \n",
      "33844              Center(C)  Less Than 8 ft.             5   \n",
      "33845              Center(C)  Less Than 8 ft.             6   \n",
      "33846              Center(C)  Less Than 8 ft.             1   \n",
      "33847              Center(C)  Less Than 8 ft.             6   \n",
      "33848   Left Side Center(LC)          24+ ft.            25   \n",
      "\n",
      "      SHOT_ATTEMPTED_FLAG  SHOT_MADE_FLAG  HTM  VTM SEASON  \n",
      "0                       1               1  OKC  SAS   2015  \n",
      "1                       1               1  OKC  SAS   2015  \n",
      "2                       1               1  SAS  BKN   2015  \n",
      "3                       1               1  SAS  BKN   2015  \n",
      "4                       1               1  SAS  BKN   2015  \n",
      "...                   ...             ...  ...  ...    ...  \n",
      "33844                   1               1  DET  POR   2021  \n",
      "33845                   1               1  DET  POR   2021  \n",
      "33846                   1               1  DET  POR   2021  \n",
      "33847                   1               1  PHI  IND   2021  \n",
      "33848                   1               1  PHI  IND   2021  \n",
      "\n",
      "[33849 rows x 22 columns]\n"
     ]
    }
   ],
   "source": [
    "#elminación de columnas\n",
    "shot_chart_details_df = shot_chart_details_df.drop(columns=['LOC_X', 'LOC_Y', 'GAME_DATE'])\n",
    "\n",
    "#impresión del dataframe para verificar\n",
    "print(shot_chart_details_df)\n"
   ]
  },
  {
   "cell_type": "markdown",
   "metadata": {},
   "source": [
    "Se puede observar que no es fácil apreciar si las columnas fueron elminadas, por lo cual se itera sobre este proceso y se realiza la verificación de los nombres de las columnas"
   ]
  },
  {
   "cell_type": "code",
   "execution_count": 34,
   "metadata": {},
   "outputs": [
    {
     "name": "stdout",
     "output_type": "stream",
     "text": [
      "Columnas del DataFrame original: Index(['GRID_TYPE', 'GAME_ID', 'GAME_EVENT_ID', 'PLAYER_ID', 'PLAYER_NAME',\n",
      "       'TEAM_ID', 'TEAM_NAME', 'PERIOD', 'MINUTES_REMAINING',\n",
      "       'SECONDS_REMAINING', 'EVENT_TYPE', 'ACTION_TYPE', 'SHOT_TYPE',\n",
      "       'SHOT_ZONE_BASIC', 'SHOT_ZONE_AREA', 'SHOT_ZONE_RANGE', 'SHOT_DISTANCE',\n",
      "       'SHOT_ATTEMPTED_FLAG', 'SHOT_MADE_FLAG', 'HTM', 'VTM', 'SEASON'],\n",
      "      dtype='object')\n"
     ]
    }
   ],
   "source": [
    "# Verificar los nombres de las columnas e incluir el índice\n",
    "print(\"Columnas del DataFrame original:\", shot_chart_details_df.columns)"
   ]
  },
  {
   "cell_type": "markdown",
   "metadata": {},
   "source": [
    "No se realiza eliminación de valores repetidos debido a que la tabla los presenta por jugadores y equipos, tipo de tiro. Ademas de la repetición de datos en tipo de acción, tipo de tiro entre otros es repetitiva a cada jugador y equipo. "
   ]
  },
  {
   "cell_type": "code",
   "execution_count": 35,
   "metadata": {},
   "outputs": [],
   "source": [
    "#Guardar el Dataset con los cambios realizados\n",
    "shot_chart_details_df.to_csv(\"cleaned_shot_chart_details.csv\",index=False)\n"
   ]
  }
 ],
 "metadata": {
  "kernelspec": {
   "display_name": "Python 3",
   "language": "python",
   "name": "python3"
  },
  "language_info": {
   "codemirror_mode": {
    "name": "ipython",
    "version": 3
   },
   "file_extension": ".py",
   "mimetype": "text/x-python",
   "name": "python",
   "nbconvert_exporter": "python",
   "pygments_lexer": "ipython3",
   "version": "3.12.4"
  }
 },
 "nbformat": 4,
 "nbformat_minor": 2
}
