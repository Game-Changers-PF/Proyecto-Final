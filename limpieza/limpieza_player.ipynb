{
 "cells": [
  {
   "cell_type": "code",
   "execution_count": 10,
   "metadata": {},
   "outputs": [],
   "source": [
    "import pandas as pd\n",
    "import numpy as np\n",
    "import os"
   ]
  },
  {
   "cell_type": "code",
   "execution_count": 11,
   "metadata": {},
   "outputs": [],
   "source": [
    "player_df = pd.read_csv(r'C:\\Users\\Rembert\\Documents\\GitHub\\Proyecto-Final\\csv_originales\\all_nba_players_status.csv',index_col=None)"
   ]
  },
  {
   "cell_type": "code",
   "execution_count": 12,
   "metadata": {},
   "outputs": [
    {
     "name": "stdout",
     "output_type": "stream",
     "text": [
      "Index(['Player ID', 'Full Name', 'Status'], dtype='object')\n"
     ]
    }
   ],
   "source": [
    "print(player_df.columns)"
   ]
  },
  {
   "cell_type": "code",
   "execution_count": 13,
   "metadata": {},
   "outputs": [],
   "source": [
    "df_cleaned = player_df.dropna(subset=['Player ID'])"
   ]
  },
  {
   "cell_type": "code",
   "execution_count": 14,
   "metadata": {},
   "outputs": [
    {
     "name": "stdout",
     "output_type": "stream",
     "text": [
      "   Player ID            Full Name    Status\n",
      "0      76001       Alaa Abdelnaby  Inactivo\n",
      "1      76002      Zaid Abdul-Aziz  Inactivo\n",
      "2      76003  Kareem Abdul-Jabbar  Inactivo\n",
      "3         51   Mahmoud Abdul-Rauf  Inactivo\n",
      "4       1505    Tariq Abdul-Wahad  Inactivo\n"
     ]
    }
   ],
   "source": [
    "print(df_cleaned.head())"
   ]
  },
  {
   "cell_type": "code",
   "execution_count": 15,
   "metadata": {},
   "outputs": [
    {
     "name": "stdout",
     "output_type": "stream",
     "text": [
      "Archivo limpio guardado en: C:\\Users\\Rembert\\Documents\\GitHub\\Proyecto-Final\\csv_filtrados\\cleaned_player.csv\n"
     ]
    }
   ],
   "source": [
    "# Ruta de la carpeta dentro del proyecto\n",
    "project_path = r'C:\\Users\\Rembert\\Documents\\GitHub\\Proyecto-Final'\n",
    "filtered_csv_folder = os.path.join(project_path, 'csv_filtrados')\n",
    "\n",
    "# Crear la carpeta si no existe\n",
    "os.makedirs(filtered_csv_folder, exist_ok=True)\n",
    "\n",
    "# Ruta del archivo limpio dentro de la carpeta 'csv_filtrados'\n",
    "filtered_file_path = os.path.join(filtered_csv_folder, 'cleaned_player.csv')\n",
    "\n",
    "# Guardar el dataframe limpio en la nueva ubicación\n",
    "df_cleaned.to_csv(filtered_file_path, index=False)\n",
    "\n",
    "\n",
    "print(\"Archivo limpio guardado en:\", filtered_file_path)"
   ]
  }
 ],
 "metadata": {
  "kernelspec": {
   "display_name": "Python 3",
   "language": "python",
   "name": "python3"
  },
  "language_info": {
   "codemirror_mode": {
    "name": "ipython",
    "version": 3
   },
   "file_extension": ".py",
   "mimetype": "text/x-python",
   "name": "python",
   "nbconvert_exporter": "python",
   "pygments_lexer": "ipython3",
   "version": "3.12.4"
  }
 },
 "nbformat": 4,
 "nbformat_minor": 2
}
