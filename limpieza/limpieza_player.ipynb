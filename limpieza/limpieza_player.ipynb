{
 "cells": [
  {
   "cell_type": "code",
   "execution_count": 1,
   "metadata": {},
   "outputs": [],
   "source": [
    "import pandas as pd\n",
    "import numpy as np\n",
    "import os"
   ]
  },
  {
   "cell_type": "code",
   "execution_count": 2,
   "metadata": {},
   "outputs": [],
   "source": [
    "player_df = pd.read_csv(r'C:\\Users\\Rembert\\Documents\\GitHub\\Proyecto-Final\\csv_originales\\player.csv',index_col=None)"
   ]
  },
  {
   "cell_type": "code",
   "execution_count": 3,
   "metadata": {},
   "outputs": [
    {
     "name": "stdout",
     "output_type": "stream",
     "text": [
      "Index(['id', 'full_name', 'first_name', 'last_name', 'is_active'], dtype='object')\n"
     ]
    }
   ],
   "source": [
    "print(player_df.columns)"
   ]
  },
  {
   "cell_type": "code",
   "execution_count": 5,
   "metadata": {},
   "outputs": [
    {
     "name": "stdout",
     "output_type": "stream",
     "text": [
      "Columnas del DataFrame original: Index(['id', 'full_name', 'first_name', 'last_name', 'is_active'], dtype='object')\n",
      "Primeras filas del DataFrame original:\n",
      "       id            full_name first_name     last_name  is_active\n",
      "0  76001       Alaa Abdelnaby       Alaa     Abdelnaby          0\n",
      "1  76002      Zaid Abdul-Aziz       Zaid    Abdul-Aziz          0\n",
      "2  76003  Kareem Abdul-Jabbar     Kareem  Abdul-Jabbar          0\n",
      "3     51   Mahmoud Abdul-Rauf    Mahmoud    Abdul-Rauf          0\n",
      "4   1505    Tariq Abdul-Wahad      Tariq   Abdul-Wahad          0\n",
      "Columnas del DataFrame limpio: Index(['id', 'full_name', 'is_active'], dtype='object')\n",
      "Archivo limpio guardado en: C:\\Users\\Rembert\\Documents\\GitHub\\Proyecto-Final\\csv_filtrados\\cleaned_player.csv\n"
     ]
    },
    {
     "name": "stderr",
     "output_type": "stream",
     "text": [
      "C:\\Users\\Rembert\\AppData\\Local\\Temp\\ipykernel_8524\\1707296699.py:14: FutureWarning: A value is trying to be set on a copy of a DataFrame or Series through chained assignment using an inplace method.\n",
      "The behavior will change in pandas 3.0. This inplace method will never work because the intermediate object on which we are setting values always behaves as a copy.\n",
      "\n",
      "For example, when doing 'df[col].method(value, inplace=True)', try using 'df.method({col: value}, inplace=True)' or df[col] = df[col].method(value) instead, to perform the operation inplace on the original object.\n",
      "\n",
      "\n",
      "  active_players_df['id'].fillna(0, inplace=True)\n",
      "C:\\Users\\Rembert\\AppData\\Local\\Temp\\ipykernel_8524\\1707296699.py:15: FutureWarning: A value is trying to be set on a copy of a DataFrame or Series through chained assignment using an inplace method.\n",
      "The behavior will change in pandas 3.0. This inplace method will never work because the intermediate object on which we are setting values always behaves as a copy.\n",
      "\n",
      "For example, when doing 'df[col].method(value, inplace=True)', try using 'df.method({col: value}, inplace=True)' or df[col] = df[col].method(value) instead, to perform the operation inplace on the original object.\n",
      "\n",
      "\n",
      "  active_players_df['full_name'].fillna('Unknown', inplace=True)\n"
     ]
    }
   ],
   "source": [
    "# Verificar los nombres de las columnas e incluir el índice\n",
    "print(\"Columnas del DataFrame original:\", player_df.columns)\n",
    "\n",
    "# Verificar las primeras filas del DataFrame para confirmar que la columna 'id' está presente\n",
    "print(\"Primeras filas del DataFrame original:\\n\", player_df.head())\n",
    "\n",
    "# Filtrar jugadores activos\n",
    "active_players_df = player_df#[player_df['is_active'] == 1]\n",
    "\n",
    "# Eliminar duplicados\n",
    "active_players_df = active_players_df.drop_duplicates()\n",
    "\n",
    "# Corregir valores nulos en las columnas `id` y `full_name`\n",
    "active_players_df['id'].fillna(0, inplace=True)\n",
    "active_players_df['full_name'].fillna('Unknown', inplace=True)\n",
    "\n",
    "# Mantener solo las columnas `id` y `full_name`\n",
    "cleaned_df = active_players_df[['id', 'full_name','is_active']]\n",
    "\n",
    "# Verificar el DataFrame limpio\n",
    "print(\"Columnas del DataFrame limpio:\", cleaned_df.columns)\n",
    "\n",
    "# Ruta de la carpeta dentro del proyecto\n",
    "project_path = r'C:\\Users\\Rembert\\Documents\\GitHub\\Proyecto-Final'\n",
    "filtered_csv_folder = os.path.join(project_path, 'csv_filtrados')\n",
    "\n",
    "# Crear la carpeta si no existe\n",
    "os.makedirs(filtered_csv_folder, exist_ok=True)\n",
    "\n",
    "# Ruta del archivo limpio dentro de la carpeta 'csv_filtrados'\n",
    "filtered_file_path = os.path.join(filtered_csv_folder, 'cleaned_player.csv')\n",
    "\n",
    "# Guardar el dataframe limpio en la nueva ubicación\n",
    "cleaned_df.to_csv(filtered_file_path, index=False)\n",
    "\n",
    "print(\"Archivo limpio guardado en:\", filtered_file_path)"
   ]
  }
 ],
 "metadata": {
  "kernelspec": {
   "display_name": "Python 3",
   "language": "python",
   "name": "python3"
  },
  "language_info": {
   "codemirror_mode": {
    "name": "ipython",
    "version": 3
   },
   "file_extension": ".py",
   "mimetype": "text/x-python",
   "name": "python",
   "nbconvert_exporter": "python",
   "pygments_lexer": "ipython3",
   "version": "3.12.4"
  }
 },
 "nbformat": 4,
 "nbformat_minor": 2
}
