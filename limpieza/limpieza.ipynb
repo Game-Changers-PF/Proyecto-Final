{
 "cells": [
  {
   "cell_type": "code",
   "execution_count": 13,
   "metadata": {},
   "outputs": [
    {
     "name": "stdout",
     "output_type": "stream",
     "text": [
      "    GAME_ID     TEAM_ID TEAM_ABBREVIATION     TEAM_CITY  PLAYER_ID  \\\n",
      "0  21501222  1610612755               PHI  Philadelphia     203496   \n",
      "1  21501222  1610612755               PHI  Philadelphia     203924   \n",
      "2  21501222  1610612755               PHI  Philadelphia     203457   \n",
      "3  21501222  1610612755               PHI  Philadelphia     203088   \n",
      "4  21501222  1610612755               PHI  Philadelphia     202397   \n",
      "\n",
      "  START_POSITION    MIN  FGM   FGA  FG_PCT  ...  REB  AST  STL  BLK   TO   PF  \\\n",
      "0              F  41:52  7.0  17.0   0.412  ...  6.0  2.0  1.0  0.0  2.0  4.0   \n",
      "1              F  38:12  7.0  14.0   0.500  ...  6.0  1.0  1.0  2.0  1.0  3.0   \n",
      "2              C  32:37  3.0  10.0   0.300  ...  6.0  2.0  3.0  3.0  1.0  5.0   \n",
      "3              G  36:41  4.0   8.0   0.500  ...  3.0  5.0  1.0  0.0  1.0  2.0   \n",
      "4              G  37:34  4.0  13.0   0.308  ...  5.0  8.0  0.0  1.0  3.0  5.0   \n",
      "\n",
      "    PTS  PLUS_MINUS  SEASON     SEASON_TYPE  \n",
      "0  27.0       -18.0    2015  Regular Season  \n",
      "1  20.0        -5.0    2015  Regular Season  \n",
      "2   7.0       -13.0    2015  Regular Season  \n",
      "3  11.0        -1.0    2015  Regular Season  \n",
      "4  10.0       -17.0    2015  Regular Season  \n",
      "\n",
      "[5 rows x 28 columns]\n",
      "    Game ID   Game Date  Season                                    Teams  \\\n",
      "0  22201216  2023-04-09   22022          Atlanta Hawks vs Boston Celtics   \n",
      "1  22201182  2023-04-04   22022           Atlanta Hawks vs Chicago Bulls   \n",
      "2  22201153  2023-03-31   22022           Atlanta Hawks vs Brooklyn Nets   \n",
      "3  22201090  2023-03-22   22022  Atlanta Hawks vs Minnesota Timberwolves   \n",
      "4  22201065  2023-03-19   22022       Atlanta Hawks vs San Antonio Spurs   \n",
      "\n",
      "        Result Season Type  \n",
      "0  114 - 120.0    Playoffs  \n",
      "1  123 - 105.0    Playoffs  \n",
      "2  107 - 124.0    Playoffs  \n",
      "3  124 - 125.0    Playoffs  \n",
      "4  118 - 126.0    Playoffs  \n"
     ]
    }
   ],
   "source": [
    "import pandas as pd\n",
    "\n",
    "# Rutas a tus archivos CSV\n",
    "player_stats_path = r'C:\\\\Users\\\\Rembert\\\\Documents\\\\GitHub\\\\Proyecto-Final\\\\csv_filtrados\\\\cleaned_player_game_stats_2015_2022.csv'\n",
    "calendar_path = r'C:\\Users\\Rembert\\Documents\\GitHub\\Proyecto-Final\\csv_filtrados\\cleaned_nba_games_calendar_2015_2022.csv'\n",
    "\n",
    "# Cargar los CSVs en DataFrames de pandas\n",
    "player_stats_df = pd.read_csv(player_stats_path)\n",
    "calendar_df = pd.read_csv(calendar_path)\n",
    "\n",
    "# Mostrar las primeras filas para asegurarnos de que se cargaron correctamente\n",
    "print(player_stats_df.head())\n",
    "print(calendar_df.head())"
   ]
  },
  {
   "cell_type": "code",
   "execution_count": 17,
   "metadata": {},
   "outputs": [
    {
     "name": "stdout",
     "output_type": "stream",
     "text": [
      "           GAME_ID     TEAM_ID TEAM_ABBREVIATION     TEAM_CITY  PLAYER_ID  \\\n",
      "2243    2021500455  1612709902               SCW    Santa Cruz     202814   \n",
      "2244    2021500455  1612709902               SCW    Santa Cruz     202359   \n",
      "2245    2021500455  1612709902               SCW    Santa Cruz     204122   \n",
      "2246    2021500455  1612709902               SCW    Santa Cruz    1627212   \n",
      "2247    2021500455  1612709902               SCW    Santa Cruz     203905   \n",
      "...            ...         ...               ...           ...        ...   \n",
      "310288  2042100111  1612709928               CCG  Capital City    1630216   \n",
      "310289  2042100111  1612709928               CCG  Capital City    1630675   \n",
      "310290  2042100111  1612709928               CCG  Capital City    1630704   \n",
      "310291  2042100111  1612709928               CCG  Capital City    1630771   \n",
      "310292  2042100111  1612709928               CCG  Capital City    1630311   \n",
      "\n",
      "       START_POSITION    MIN  FGM   FGA  FG_PCT  ...   REB  AST  STL  BLK  \\\n",
      "2243                F  37:18  5.0  11.0   0.455  ...   3.0  1.0  2.0  0.0   \n",
      "2244                F  31:56  9.0  15.0   0.600  ...  13.0  3.0  0.0  1.0   \n",
      "2245                C  18:13  2.0   3.0   0.667  ...   4.0  0.0  2.0  0.0   \n",
      "2246                G  32:49  7.0  16.0   0.438  ...   2.0  4.0  2.0  0.0   \n",
      "2247                G  33:48  8.0  13.0   0.615  ...   1.0  4.0  1.0  0.0   \n",
      "...               ...    ...  ...   ...     ...  ...   ...  ...  ...  ...   \n",
      "310288            NaN  18:31  5.0   9.0   0.556  ...   2.0  3.0  1.0  0.0   \n",
      "310289            NaN  07:40  1.0   3.0   0.333  ...   1.0  0.0  0.0  0.0   \n",
      "310290            NaN  04:09  1.0   1.0   1.000  ...   2.0  0.0  1.0  0.0   \n",
      "310291            NaN  00:00  0.0   0.0   0.000  ...   0.0  0.0  0.0  0.0   \n",
      "310292            NaN  00:00  0.0   0.0   0.000  ...   0.0  0.0  0.0  0.0   \n",
      "\n",
      "         TO   PF   PTS  PLUS_MINUS  SEASON     SEASON_TYPE  \n",
      "2243    2.0  3.0  17.0         7.0    2015  Regular Season  \n",
      "2244    1.0  3.0  24.0        14.0    2015  Regular Season  \n",
      "2245    0.0  2.0   4.0         6.0    2015  Regular Season  \n",
      "2246    2.0  1.0  15.0         4.0    2015  Regular Season  \n",
      "2247    2.0  4.0  19.0         2.0    2015  Regular Season  \n",
      "...     ...  ...   ...         ...     ...             ...  \n",
      "310288  2.0  3.0  18.0         9.0    2021        Playoffs  \n",
      "310289  2.0  0.0   2.0         1.0    2021        Playoffs  \n",
      "310290  1.0  1.0   2.0        -3.0    2021        Playoffs  \n",
      "310291  0.0  0.0   0.0         0.0    2021        Playoffs  \n",
      "310292  0.0  0.0   0.0         0.0    2021        Playoffs  \n",
      "\n",
      "[98800 rows x 28 columns]\n"
     ]
    }
   ],
   "source": [
    "# Cargar los CSVs en DataFrames de pandas\n",
    "player_stats_df = pd.read_csv(player_stats_path)\n",
    "calendar_df = pd.read_csv(calendar_path)\n",
    "\n",
    "# Renombrar la columna 'Game ID' a 'GAME_ID' en calendar_df\n",
    "calendar_df.rename(columns={'Game ID': 'GAME_ID'}, inplace=True)\n",
    "\n",
    "# Identificar los GAME_ID conflictivos\n",
    "conflicting_game_ids = player_stats_df[~player_stats_df['GAME_ID'].isin(calendar_df['GAME_ID'])]\n",
    "\n",
    "# Mostrar los registros conflictivos\n",
    "print(conflicting_game_ids)\n",
    "\n",
    "# Eliminar los registros conflictivos\n",
    "cleaned_player_stats_df = player_stats_df[player_stats_df['GAME_ID'].isin(calendar_df['GAME_ID'])]\n",
    "\n",
    "# Guardar el DataFrame limpio de nuevo en un archivo CSV\n",
    "cleaned_player_stats_path = 'C:\\\\Users\\\\Rembert\\\\Documents\\\\GitHub\\\\Proyecto-Final\\\\csv_filtrados\\\\cleaned_player_game_stats_2015_2022_cleaned.csv'\n",
    "cleaned_player_stats_df.to_csv(cleaned_player_stats_path, index=False)"
   ]
  },
  {
   "cell_type": "code",
   "execution_count": 2,
   "metadata": {},
   "outputs": [
    {
     "name": "stdout",
     "output_type": "stream",
     "text": [
      "Registros totales en player_stats_df antes del filtro: 211493\n",
      "Registros totales en player_stats_df después del filtro: 211471\n"
     ]
    }
   ],
   "source": [
    "import pandas as pd\n",
    "\n",
    "# Ruta al archivo original de player_stats\n",
    "player_stats_path = r'C:\\Users\\Rembert\\Documents\\GitHub\\Proyecto-Final\\csv_filtrados\\cleaned_player_game_stats_2015_2022_cleaned.csv'\n",
    "\n",
    "# Cargar el archivo player_stats en un DataFrame\n",
    "player_stats_df = pd.read_csv(player_stats_path)\n",
    "\n",
    "# Ruta al archivo cleaned_player\n",
    "cleaned_player_path = r'C:\\Users\\Rembert\\Documents\\GitHub\\Proyecto-Final\\csv_filtrados\\cleaned_player.csv'\n",
    "\n",
    "# Cargar el archivo cleaned_player en un DataFrame\n",
    "cleaned_player_df = pd.read_csv(cleaned_player_path)\n",
    "\n",
    "# Obtener los Player_ID presentes en cleaned_player_df\n",
    "valid_player_ids = cleaned_player_df['Player ID'].tolist()\n",
    "\n",
    "# Aplicar el filtro en player_stats_df\n",
    "filtered_player_stats_df = player_stats_df[player_stats_df['PLAYER_ID'].isin(valid_player_ids)]\n",
    "\n",
    "# Mostrar la cantidad de registros después del filtro\n",
    "print(f\"Registros totales en player_stats_df antes del filtro: {len(player_stats_df)}\")\n",
    "print(f\"Registros totales en player_stats_df después del filtro: {len(filtered_player_stats_df)}\")\n",
    "\n",
    "# Puedes continuar trabajando con filtered_player_stats_df según tus necesidades\n"
   ]
  },
  {
   "cell_type": "code",
   "execution_count": 4,
   "metadata": {},
   "outputs": [
    {
     "name": "stdout",
     "output_type": "stream",
     "text": [
      "DataFrame filtrado guardado en: C:\\Users\\Rembert\\Documents\\GitHub\\Proyecto-Final\\csv_filtrados\\cleaned_player_game_stats_2015_2022_cleaned.csv\n"
     ]
    }
   ],
   "source": [
    "cleaned_player_stats_path = r'C:\\Users\\Rembert\\Documents\\GitHub\\Proyecto-Final\\csv_filtrados\\cleaned_player_game_stats_2015_2022_cleaned.csv'\n",
    "\n",
    "# Guardar el DataFrame limpio en un archivo CSV\n",
    "filtered_player_stats_df.to_csv(cleaned_player_stats_path, index=False)\n",
    "\n",
    "print(f\"DataFrame filtrado guardado en: {cleaned_player_stats_path}\")"
   ]
  }
 ],
 "metadata": {
  "kernelspec": {
   "display_name": "Python 3",
   "language": "python",
   "name": "python3"
  },
  "language_info": {
   "codemirror_mode": {
    "name": "ipython",
    "version": 3
   },
   "file_extension": ".py",
   "mimetype": "text/x-python",
   "name": "python",
   "nbconvert_exporter": "python",
   "pygments_lexer": "ipython3",
   "version": "3.12.4"
  }
 },
 "nbformat": 4,
 "nbformat_minor": 2
}
